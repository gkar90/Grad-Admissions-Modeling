{
  "nbformat": 4,
  "nbformat_minor": 0,
  "metadata": {
    "colab": {
      "name": "Neural Network for Grad Admissions",
      "provenance": [],
      "toc_visible": true,
      "authorship_tag": "ABX9TyNh+vBz24CJeLYRajiRLpx9",
      "include_colab_link": true
    },
    "kernelspec": {
      "display_name": "Python 3",
      "name": "python3"
    },
    "language_info": {
      "name": "python"
    }
  },
  "cells": [
    {
      "cell_type": "markdown",
      "metadata": {
        "id": "view-in-github",
        "colab_type": "text"
      },
      "source": [
        "<a href=\"https://colab.research.google.com/github/gkar90/Tensorflow-Grad-Admissions-Modeling/blob/main/Neural_Network_for_Grad_Admissions.ipynb\" target=\"_parent\"><img src=\"https://colab.research.google.com/assets/colab-badge.svg\" alt=\"Open In Colab\"/></a>"
      ]
    },
    {
      "cell_type": "markdown",
      "metadata": {
        "id": "Mf1CrnieKZdl"
      },
      "source": [
        "Downloaded this dataset from Kaggle that is providing the chance of admission to graduate schools based off factors like GRE, undergrad school rating, etc...\n",
        "\n",
        "I'm going to attempt to create a neural network that should be able to predict the chance of admission based off multiple factors, which we will look into more below"
      ]
    },
    {
      "cell_type": "markdown",
      "metadata": {
        "id": "H7yWbh3MLB4_"
      },
      "source": [
        "To start: lets import all necessary functions for this project:"
      ]
    },
    {
      "cell_type": "code",
      "metadata": {
        "id": "pMm-X7XvJDMh"
      },
      "source": [
        "import pandas as pd\n",
        "import numpy as np\n",
        "import matplotlib.pyplot as plt\n",
        "\n",
        "import tensorflow as tf\n",
        "from tensorflow import keras\n",
        "from tensorflow.keras.models import Sequential\n",
        "from tensorflow.keras.callbacks import EarlyStopping\n",
        "from tensorflow.keras.layers import InputLayer\n",
        "from tensorflow.keras.layers import Dense\n",
        "from tensorflow.keras.optimizers import Adam\n",
        "from tensorflow.keras import layers\n",
        "\n",
        "from sklearn.model_selection import train_test_split\n",
        "from sklearn.preprocessing import StandardScaler\n",
        "from sklearn.preprocessing import Normalizer\n",
        "from sklearn.metrics import r2_score\n",
        "from sklearn.compose import ColumnTransformer\n"
      ],
      "execution_count": 15,
      "outputs": []
    },
    {
      "cell_type": "markdown",
      "metadata": {
        "id": "P3yNcyppLHmR"
      },
      "source": [
        "Now let's take a look at the data"
      ]
    },
    {
      "cell_type": "code",
      "metadata": {
        "id": "qN44TwqPJKZe"
      },
      "source": [
        "data = pd.read_csv(\"Admission_Predict_Ver1.1.csv\")"
      ],
      "execution_count": 16,
      "outputs": []
    },
    {
      "cell_type": "code",
      "metadata": {
        "colab": {
          "base_uri": "https://localhost:8080/",
          "height": 204
        },
        "id": "9cjFpjN2JKbz",
        "outputId": "1abcb554-6a14-488e-8a42-b3de04d8ca0a"
      },
      "source": [
        "data.head()"
      ],
      "execution_count": 17,
      "outputs": [
        {
          "output_type": "execute_result",
          "data": {
            "text/html": [
              "<div>\n",
              "<style scoped>\n",
              "    .dataframe tbody tr th:only-of-type {\n",
              "        vertical-align: middle;\n",
              "    }\n",
              "\n",
              "    .dataframe tbody tr th {\n",
              "        vertical-align: top;\n",
              "    }\n",
              "\n",
              "    .dataframe thead th {\n",
              "        text-align: right;\n",
              "    }\n",
              "</style>\n",
              "<table border=\"1\" class=\"dataframe\">\n",
              "  <thead>\n",
              "    <tr style=\"text-align: right;\">\n",
              "      <th></th>\n",
              "      <th>Serial No.</th>\n",
              "      <th>GRE Score</th>\n",
              "      <th>TOEFL Score</th>\n",
              "      <th>University Rating</th>\n",
              "      <th>SOP</th>\n",
              "      <th>LOR</th>\n",
              "      <th>CGPA</th>\n",
              "      <th>Research</th>\n",
              "      <th>Chance of Admit</th>\n",
              "    </tr>\n",
              "  </thead>\n",
              "  <tbody>\n",
              "    <tr>\n",
              "      <th>0</th>\n",
              "      <td>1</td>\n",
              "      <td>337</td>\n",
              "      <td>118</td>\n",
              "      <td>4</td>\n",
              "      <td>4.5</td>\n",
              "      <td>4.5</td>\n",
              "      <td>9.65</td>\n",
              "      <td>1</td>\n",
              "      <td>0.92</td>\n",
              "    </tr>\n",
              "    <tr>\n",
              "      <th>1</th>\n",
              "      <td>2</td>\n",
              "      <td>324</td>\n",
              "      <td>107</td>\n",
              "      <td>4</td>\n",
              "      <td>4.0</td>\n",
              "      <td>4.5</td>\n",
              "      <td>8.87</td>\n",
              "      <td>1</td>\n",
              "      <td>0.76</td>\n",
              "    </tr>\n",
              "    <tr>\n",
              "      <th>2</th>\n",
              "      <td>3</td>\n",
              "      <td>316</td>\n",
              "      <td>104</td>\n",
              "      <td>3</td>\n",
              "      <td>3.0</td>\n",
              "      <td>3.5</td>\n",
              "      <td>8.00</td>\n",
              "      <td>1</td>\n",
              "      <td>0.72</td>\n",
              "    </tr>\n",
              "    <tr>\n",
              "      <th>3</th>\n",
              "      <td>4</td>\n",
              "      <td>322</td>\n",
              "      <td>110</td>\n",
              "      <td>3</td>\n",
              "      <td>3.5</td>\n",
              "      <td>2.5</td>\n",
              "      <td>8.67</td>\n",
              "      <td>1</td>\n",
              "      <td>0.80</td>\n",
              "    </tr>\n",
              "    <tr>\n",
              "      <th>4</th>\n",
              "      <td>5</td>\n",
              "      <td>314</td>\n",
              "      <td>103</td>\n",
              "      <td>2</td>\n",
              "      <td>2.0</td>\n",
              "      <td>3.0</td>\n",
              "      <td>8.21</td>\n",
              "      <td>0</td>\n",
              "      <td>0.65</td>\n",
              "    </tr>\n",
              "  </tbody>\n",
              "</table>\n",
              "</div>"
            ],
            "text/plain": [
              "   Serial No.  GRE Score  TOEFL Score  ...  CGPA  Research  Chance of Admit \n",
              "0           1        337          118  ...  9.65         1              0.92\n",
              "1           2        324          107  ...  8.87         1              0.76\n",
              "2           3        316          104  ...  8.00         1              0.72\n",
              "3           4        322          110  ...  8.67         1              0.80\n",
              "4           5        314          103  ...  8.21         0              0.65\n",
              "\n",
              "[5 rows x 9 columns]"
            ]
          },
          "metadata": {
            "tags": []
          },
          "execution_count": 17
        }
      ]
    },
    {
      "cell_type": "markdown",
      "metadata": {
        "id": "Y6ztIDA1LQeK"
      },
      "source": [
        "Main points to see here:\n",
        "\n",
        "\n",
        "1.   All data is numerical, so no need to change anything from text->numerical\n",
        "2.   The Serial Number column is not something we need. It seems its just an ID system, so we can drop this.\n",
        "3.    All the data is on different scales, so we're going to need to normalize our data to get a proper model.\n",
        "\n"
      ]
    },
    {
      "cell_type": "code",
      "metadata": {
        "id": "jhLJiAKlJKgR"
      },
      "source": [
        "data = data.drop([\"Serial No.\"], axis = 1)\n",
        "features = data.iloc[ : , : -1]\n",
        "labels = data.iloc[ : , -1]"
      ],
      "execution_count": 18,
      "outputs": []
    },
    {
      "cell_type": "code",
      "metadata": {
        "colab": {
          "base_uri": "https://localhost:8080/",
          "height": 204
        },
        "id": "Lzk7aBM9JKii",
        "outputId": "0f5de2d1-9509-4370-c1be-feab1f2d80fc"
      },
      "source": [
        "features.head()"
      ],
      "execution_count": 19,
      "outputs": [
        {
          "output_type": "execute_result",
          "data": {
            "text/html": [
              "<div>\n",
              "<style scoped>\n",
              "    .dataframe tbody tr th:only-of-type {\n",
              "        vertical-align: middle;\n",
              "    }\n",
              "\n",
              "    .dataframe tbody tr th {\n",
              "        vertical-align: top;\n",
              "    }\n",
              "\n",
              "    .dataframe thead th {\n",
              "        text-align: right;\n",
              "    }\n",
              "</style>\n",
              "<table border=\"1\" class=\"dataframe\">\n",
              "  <thead>\n",
              "    <tr style=\"text-align: right;\">\n",
              "      <th></th>\n",
              "      <th>GRE Score</th>\n",
              "      <th>TOEFL Score</th>\n",
              "      <th>University Rating</th>\n",
              "      <th>SOP</th>\n",
              "      <th>LOR</th>\n",
              "      <th>CGPA</th>\n",
              "      <th>Research</th>\n",
              "    </tr>\n",
              "  </thead>\n",
              "  <tbody>\n",
              "    <tr>\n",
              "      <th>0</th>\n",
              "      <td>337</td>\n",
              "      <td>118</td>\n",
              "      <td>4</td>\n",
              "      <td>4.5</td>\n",
              "      <td>4.5</td>\n",
              "      <td>9.65</td>\n",
              "      <td>1</td>\n",
              "    </tr>\n",
              "    <tr>\n",
              "      <th>1</th>\n",
              "      <td>324</td>\n",
              "      <td>107</td>\n",
              "      <td>4</td>\n",
              "      <td>4.0</td>\n",
              "      <td>4.5</td>\n",
              "      <td>8.87</td>\n",
              "      <td>1</td>\n",
              "    </tr>\n",
              "    <tr>\n",
              "      <th>2</th>\n",
              "      <td>316</td>\n",
              "      <td>104</td>\n",
              "      <td>3</td>\n",
              "      <td>3.0</td>\n",
              "      <td>3.5</td>\n",
              "      <td>8.00</td>\n",
              "      <td>1</td>\n",
              "    </tr>\n",
              "    <tr>\n",
              "      <th>3</th>\n",
              "      <td>322</td>\n",
              "      <td>110</td>\n",
              "      <td>3</td>\n",
              "      <td>3.5</td>\n",
              "      <td>2.5</td>\n",
              "      <td>8.67</td>\n",
              "      <td>1</td>\n",
              "    </tr>\n",
              "    <tr>\n",
              "      <th>4</th>\n",
              "      <td>314</td>\n",
              "      <td>103</td>\n",
              "      <td>2</td>\n",
              "      <td>2.0</td>\n",
              "      <td>3.0</td>\n",
              "      <td>8.21</td>\n",
              "      <td>0</td>\n",
              "    </tr>\n",
              "  </tbody>\n",
              "</table>\n",
              "</div>"
            ],
            "text/plain": [
              "   GRE Score  TOEFL Score  University Rating  SOP  LOR   CGPA  Research\n",
              "0        337          118                  4  4.5   4.5  9.65         1\n",
              "1        324          107                  4  4.0   4.5  8.87         1\n",
              "2        316          104                  3  3.0   3.5  8.00         1\n",
              "3        322          110                  3  3.5   2.5  8.67         1\n",
              "4        314          103                  2  2.0   3.0  8.21         0"
            ]
          },
          "metadata": {
            "tags": []
          },
          "execution_count": 19
        }
      ]
    },
    {
      "cell_type": "code",
      "metadata": {
        "colab": {
          "base_uri": "https://localhost:8080/"
        },
        "id": "JOwFo6eIJKm7",
        "outputId": "e03ae06e-a986-4a33-8f0a-6eec53f8f958"
      },
      "source": [
        "labels.head()"
      ],
      "execution_count": 20,
      "outputs": [
        {
          "output_type": "execute_result",
          "data": {
            "text/plain": [
              "0    0.92\n",
              "1    0.76\n",
              "2    0.72\n",
              "3    0.80\n",
              "4    0.65\n",
              "Name: Chance of Admit , dtype: float64"
            ]
          },
          "metadata": {
            "tags": []
          },
          "execution_count": 20
        }
      ]
    },
    {
      "cell_type": "markdown",
      "metadata": {
        "id": "1Wv0P-WNMHx1"
      },
      "source": [
        "So we have out inputs (features table) and our output (labels table).\n",
        "\n",
        "Now can break down our features table into training and test sets to work for our model"
      ]
    },
    {
      "cell_type": "code",
      "metadata": {
        "id": "MjBsyhbEJKrf"
      },
      "source": [
        "features_train, features_test, labels_train, labels_test = train_test_split(\n",
        "    features, labels, test_size = 0.2, random_state = 10)"
      ],
      "execution_count": 21,
      "outputs": []
    },
    {
      "cell_type": "markdown",
      "metadata": {
        "id": "fOQccPE3Mmsh"
      },
      "source": [
        "We have our train and test tables now, but we need to pre-process this data so that the model can work properly. So here we will normalize the data, and then will start workign on the modeling."
      ]
    },
    {
      "cell_type": "code",
      "metadata": {
        "id": "ZqCFjD9uJKtz"
      },
      "source": [
        "numerical_features = features.select_dtypes(include = ['float64', 'int64'])\n",
        "numerical_columns = numerical_features.columns\n",
        "\n",
        "ct = ColumnTransformer(\n",
        "    [('only numeric', \n",
        "      StandardScaler(), \n",
        "      numerical_columns)], \n",
        "      remainder = \"passthrough\")\n",
        "\n",
        "features_train_scaled = ct.fit_transform(features_train)\n",
        "\n",
        "features_test_scaled = ct.transform(features_test)\n",
        "\n",
        "features_train_normalized = pd.DataFrame(\n",
        "    features_train_scaled, columns = features_train.columns\n",
        ")\n"
      ],
      "execution_count": 22,
      "outputs": []
    },
    {
      "cell_type": "code",
      "metadata": {
        "colab": {
          "base_uri": "https://localhost:8080/",
          "height": 204
        },
        "id": "aJeL9gPGJKv7",
        "outputId": "8967bef1-c86d-4edc-9fc8-d551eb929da3"
      },
      "source": [
        "features_train_normalized.head()"
      ],
      "execution_count": 23,
      "outputs": [
        {
          "output_type": "execute_result",
          "data": {
            "text/html": [
              "<div>\n",
              "<style scoped>\n",
              "    .dataframe tbody tr th:only-of-type {\n",
              "        vertical-align: middle;\n",
              "    }\n",
              "\n",
              "    .dataframe tbody tr th {\n",
              "        vertical-align: top;\n",
              "    }\n",
              "\n",
              "    .dataframe thead th {\n",
              "        text-align: right;\n",
              "    }\n",
              "</style>\n",
              "<table border=\"1\" class=\"dataframe\">\n",
              "  <thead>\n",
              "    <tr style=\"text-align: right;\">\n",
              "      <th></th>\n",
              "      <th>GRE Score</th>\n",
              "      <th>TOEFL Score</th>\n",
              "      <th>University Rating</th>\n",
              "      <th>SOP</th>\n",
              "      <th>LOR</th>\n",
              "      <th>CGPA</th>\n",
              "      <th>Research</th>\n",
              "    </tr>\n",
              "  </thead>\n",
              "  <tbody>\n",
              "    <tr>\n",
              "      <th>0</th>\n",
              "      <td>0.416963</td>\n",
              "      <td>0.307660</td>\n",
              "      <td>-0.059710</td>\n",
              "      <td>0.167470</td>\n",
              "      <td>0.069958</td>\n",
              "      <td>0.385758</td>\n",
              "      <td>0.872992</td>\n",
              "    </tr>\n",
              "    <tr>\n",
              "      <th>1</th>\n",
              "      <td>1.897564</td>\n",
              "      <td>1.625617</td>\n",
              "      <td>0.824884</td>\n",
              "      <td>0.167470</td>\n",
              "      <td>1.146239</td>\n",
              "      <td>1.454160</td>\n",
              "      <td>0.872992</td>\n",
              "    </tr>\n",
              "    <tr>\n",
              "      <th>2</th>\n",
              "      <td>0.155681</td>\n",
              "      <td>-0.021829</td>\n",
              "      <td>-0.059710</td>\n",
              "      <td>-0.336199</td>\n",
              "      <td>0.069958</td>\n",
              "      <td>-0.472201</td>\n",
              "      <td>0.872992</td>\n",
              "    </tr>\n",
              "    <tr>\n",
              "      <th>3</th>\n",
              "      <td>-0.366884</td>\n",
              "      <td>-0.021829</td>\n",
              "      <td>0.824884</td>\n",
              "      <td>1.174807</td>\n",
              "      <td>0.608098</td>\n",
              "      <td>0.142939</td>\n",
              "      <td>0.872992</td>\n",
              "    </tr>\n",
              "    <tr>\n",
              "      <th>4</th>\n",
              "      <td>1.287905</td>\n",
              "      <td>1.296128</td>\n",
              "      <td>1.709478</td>\n",
              "      <td>0.671138</td>\n",
              "      <td>0.069958</td>\n",
              "      <td>1.421785</td>\n",
              "      <td>0.872992</td>\n",
              "    </tr>\n",
              "  </tbody>\n",
              "</table>\n",
              "</div>"
            ],
            "text/plain": [
              "   GRE Score  TOEFL Score  University Rating  ...      LOR       CGPA  Research\n",
              "0   0.416963     0.307660          -0.059710  ...  0.069958  0.385758  0.872992\n",
              "1   1.897564     1.625617           0.824884  ...  1.146239  1.454160  0.872992\n",
              "2   0.155681    -0.021829          -0.059710  ...  0.069958 -0.472201  0.872992\n",
              "3  -0.366884    -0.021829           0.824884  ...  0.608098  0.142939  0.872992\n",
              "4   1.287905     1.296128           1.709478  ...  0.069958  1.421785  0.872992\n",
              "\n",
              "[5 rows x 7 columns]"
            ]
          },
          "metadata": {
            "tags": []
          },
          "execution_count": 23
        }
      ]
    },
    {
      "cell_type": "markdown",
      "metadata": {
        "id": "CNMC4j6CNZAt"
      },
      "source": [
        "Awesome. Our Data has been scaled/normalized and now we can actually start modeling and creating a neural network"
      ]
    },
    {
      "cell_type": "code",
      "metadata": {
        "id": "HQKmo88wJKyh"
      },
      "source": [
        "def neural_model(features, learning_rate):\n",
        "\n",
        "  #instantiate the model\n",
        "  my_model = Sequential()\n",
        "\n",
        "  #create our input layer\n",
        "  my_input = InputLayer(input_shape = (features.shape[1], ))\n",
        "\n",
        "  #adds the input layer to the model\n",
        "  my_model.add(my_input) \n",
        "\n",
        "  #add a hidden layer with 64 neurons\n",
        "  my_model.add(Dense(64, activation = 'relu'))\n",
        "\n",
        "  #add our output\n",
        "  my_model.add(Dense(1))\n",
        "\n",
        "  #consider our optimizer, loss-rate, and metrics:\n",
        "  opt = Adam(learning_rate)\n",
        "\n",
        "  my_model.compile(loss = 'mse', metrics = ['mae'], optimizer = opt)\n",
        "\n",
        "  return my_model\n",
        "\n",
        "my_model = neural_model(features, 0.01)\n",
        "\n"
      ],
      "execution_count": 24,
      "outputs": []
    },
    {
      "cell_type": "code",
      "metadata": {
        "colab": {
          "base_uri": "https://localhost:8080/"
        },
        "id": "cgfuN0hEJK05",
        "outputId": "e7ca0faf-9119-426e-f7f1-5ab8596b3fd1"
      },
      "source": [
        "my_model.summary()"
      ],
      "execution_count": 25,
      "outputs": [
        {
          "output_type": "stream",
          "text": [
            "Model: \"sequential\"\n",
            "_________________________________________________________________\n",
            "Layer (type)                 Output Shape              Param #   \n",
            "=================================================================\n",
            "dense (Dense)                (None, 64)                512       \n",
            "_________________________________________________________________\n",
            "dense_1 (Dense)              (None, 1)                 65        \n",
            "=================================================================\n",
            "Total params: 577\n",
            "Trainable params: 577\n",
            "Non-trainable params: 0\n",
            "_________________________________________________________________\n"
          ],
          "name": "stdout"
        }
      ]
    },
    {
      "cell_type": "markdown",
      "metadata": {
        "id": "7e7Q0HMrPyno"
      },
      "source": [
        "Before fitting the model, need to consider things like the optimizer, loss-rate, and metric, so let's compile that into our model now before fitting:"
      ]
    },
    {
      "cell_type": "code",
      "metadata": {
        "colab": {
          "base_uri": "https://localhost:8080/"
        },
        "id": "Grf7_b6tJK5t",
        "outputId": "a3094616-cef0-4b5d-9873-993b2433af18"
      },
      "source": [
        "my_model.fit(features_train_scaled, \n",
        "             labels_train, \n",
        "             epochs = 40, \n",
        "             batch_size = 1, \n",
        "             verbose = 1)"
      ],
      "execution_count": 26,
      "outputs": [
        {
          "output_type": "stream",
          "text": [
            "Epoch 1/40\n",
            "400/400 [==============================] - 1s 1ms/step - loss: 0.1101 - mae: 0.2316\n",
            "Epoch 2/40\n",
            "400/400 [==============================] - 0s 1ms/step - loss: 0.0100 - mae: 0.0802\n",
            "Epoch 3/40\n",
            "400/400 [==============================] - 1s 1ms/step - loss: 0.0082 - mae: 0.0695\n",
            "Epoch 4/40\n",
            "400/400 [==============================] - 0s 1ms/step - loss: 0.0065 - mae: 0.0632\n",
            "Epoch 5/40\n",
            "400/400 [==============================] - 0s 1ms/step - loss: 0.0055 - mae: 0.0581\n",
            "Epoch 6/40\n",
            "400/400 [==============================] - 0s 1ms/step - loss: 0.0048 - mae: 0.0533\n",
            "Epoch 7/40\n",
            "400/400 [==============================] - 0s 1ms/step - loss: 0.0062 - mae: 0.0613\n",
            "Epoch 8/40\n",
            "400/400 [==============================] - 0s 1ms/step - loss: 0.0066 - mae: 0.0597\n",
            "Epoch 9/40\n",
            "400/400 [==============================] - 0s 1ms/step - loss: 0.0047 - mae: 0.0512\n",
            "Epoch 10/40\n",
            "400/400 [==============================] - 0s 1ms/step - loss: 0.0053 - mae: 0.0553\n",
            "Epoch 11/40\n",
            "400/400 [==============================] - 0s 1ms/step - loss: 0.0059 - mae: 0.0592\n",
            "Epoch 12/40\n",
            "400/400 [==============================] - 0s 1ms/step - loss: 0.0047 - mae: 0.0514\n",
            "Epoch 13/40\n",
            "400/400 [==============================] - 0s 1ms/step - loss: 0.0049 - mae: 0.0538\n",
            "Epoch 14/40\n",
            "400/400 [==============================] - 0s 1ms/step - loss: 0.0041 - mae: 0.0477\n",
            "Epoch 15/40\n",
            "400/400 [==============================] - 0s 1ms/step - loss: 0.0041 - mae: 0.0495\n",
            "Epoch 16/40\n",
            "400/400 [==============================] - 0s 1ms/step - loss: 0.0046 - mae: 0.0503\n",
            "Epoch 17/40\n",
            "400/400 [==============================] - 0s 1ms/step - loss: 0.0057 - mae: 0.0559\n",
            "Epoch 18/40\n",
            "400/400 [==============================] - 0s 1ms/step - loss: 0.0044 - mae: 0.0481\n",
            "Epoch 19/40\n",
            "400/400 [==============================] - 0s 1ms/step - loss: 0.0040 - mae: 0.0472\n",
            "Epoch 20/40\n",
            "400/400 [==============================] - 0s 1ms/step - loss: 0.0039 - mae: 0.0465\n",
            "Epoch 21/40\n",
            "400/400 [==============================] - 0s 1ms/step - loss: 0.0039 - mae: 0.0456\n",
            "Epoch 22/40\n",
            "400/400 [==============================] - 0s 1ms/step - loss: 0.0049 - mae: 0.0513\n",
            "Epoch 23/40\n",
            "400/400 [==============================] - 0s 1ms/step - loss: 0.0044 - mae: 0.0491\n",
            "Epoch 24/40\n",
            "400/400 [==============================] - 0s 1ms/step - loss: 0.0042 - mae: 0.0470\n",
            "Epoch 25/40\n",
            "400/400 [==============================] - 0s 1ms/step - loss: 0.0049 - mae: 0.0523\n",
            "Epoch 26/40\n",
            "400/400 [==============================] - 0s 1ms/step - loss: 0.0050 - mae: 0.0540\n",
            "Epoch 27/40\n",
            "400/400 [==============================] - 0s 1ms/step - loss: 0.0048 - mae: 0.0517\n",
            "Epoch 28/40\n",
            "400/400 [==============================] - 0s 1ms/step - loss: 0.0042 - mae: 0.0491\n",
            "Epoch 29/40\n",
            "400/400 [==============================] - 0s 1ms/step - loss: 0.0037 - mae: 0.0436\n",
            "Epoch 30/40\n",
            "400/400 [==============================] - 0s 1ms/step - loss: 0.0049 - mae: 0.0520\n",
            "Epoch 31/40\n",
            "400/400 [==============================] - 0s 1ms/step - loss: 0.0041 - mae: 0.0472\n",
            "Epoch 32/40\n",
            "400/400 [==============================] - 0s 1ms/step - loss: 0.0053 - mae: 0.0530\n",
            "Epoch 33/40\n",
            "400/400 [==============================] - 0s 1ms/step - loss: 0.0053 - mae: 0.0541\n",
            "Epoch 34/40\n",
            "400/400 [==============================] - 0s 1ms/step - loss: 0.0046 - mae: 0.0506\n",
            "Epoch 35/40\n",
            "400/400 [==============================] - 0s 1ms/step - loss: 0.0043 - mae: 0.0479\n",
            "Epoch 36/40\n",
            "400/400 [==============================] - 0s 1ms/step - loss: 0.0044 - mae: 0.0476\n",
            "Epoch 37/40\n",
            "400/400 [==============================] - 0s 1ms/step - loss: 0.0046 - mae: 0.0489\n",
            "Epoch 38/40\n",
            "400/400 [==============================] - 0s 1ms/step - loss: 0.0056 - mae: 0.0560\n",
            "Epoch 39/40\n",
            "400/400 [==============================] - 0s 1ms/step - loss: 0.0044 - mae: 0.0503\n",
            "Epoch 40/40\n",
            "400/400 [==============================] - 0s 1ms/step - loss: 0.0050 - mae: 0.0516\n"
          ],
          "name": "stdout"
        },
        {
          "output_type": "execute_result",
          "data": {
            "text/plain": [
              "<tensorflow.python.keras.callbacks.History at 0x7f04359d0210>"
            ]
          },
          "metadata": {
            "tags": []
          },
          "execution_count": 26
        }
      ]
    },
    {
      "cell_type": "markdown",
      "metadata": {
        "id": "8jnbuqF9Qy2K"
      },
      "source": [
        "Had some big fluctuations around epoch 5-10...so lets play around with the hyperparameters to see if we can optimize the parameters to minimize our loss."
      ]
    },
    {
      "cell_type": "code",
      "metadata": {
        "colab": {
          "base_uri": "https://localhost:8080/",
          "height": 884
        },
        "id": "wIQjmzahJK74",
        "outputId": "b5d2998c-3920-441d-c14d-2efe2c1dc12b"
      },
      "source": [
        "def fit_model(feat_train, lab_train, learning_rate, num_epochs, b_size):\n",
        "  model = neural_model(feat_train, learning_rate)\n",
        "\n",
        "  #add early stopping for overfitting purposes\n",
        "  stop = EarlyStopping(monitor = \"val_loss\", mode = 'min', verbose = 1, patience = 25)\n",
        "\n",
        "  # now train the model:\n",
        "  history = model.fit(feat_train, lab_train, epochs = num_epochs, \n",
        "                      batch_size = b_size, verbose = 0, validation_split = 0.2, callbacks=[stop])\n",
        "  \n",
        "  #now plot the learning curves\n",
        "  plt.plot(history.history['loss'], label = 'train')\n",
        "  plt.plot(history.history['val_loss'], label = 'validation')\n",
        "  plt.title(\"Learning Rate: \" + str(learning_rate))\n",
        "  plt.legend(loc = 'upper right')\n",
        "\n",
        "  return history\n",
        "  \n",
        "#make a list of learning rates to try out\n",
        "learning_rates = [1E-1, 1E-3, 1E-4, 1E-5, 1E-8, 1E-10, 1E-15]\n",
        "\n",
        "#fixed number of epochs\n",
        "num_epochs = 100\n",
        "\n",
        "#fixed number of batches\n",
        "batch_size = 10 \n",
        "\n",
        "for i in range(len(learning_rates)):\n",
        "  plt.figure(figsize=(8,6))\n",
        "  plot_no = 420 + (i+1)\n",
        "  plt.subplot(plot_no)\n",
        "  fit_model(features_train, labels_train, learning_rates[i], num_epochs, batch_size)\n",
        "\n",
        "plt.tight_layout()\n",
        "plt.show()\n",
        "print(\"See the plot above with learning rates\", learning_rates)\n"
      ],
      "execution_count": 33,
      "outputs": [
        {
          "output_type": "stream",
          "text": [
            "Epoch 00026: early stopping\n"
          ],
          "name": "stdout"
        },
        {
          "output_type": "display_data",
          "data": {
            "image/png": "[encoded data removed]",
            "text/plain": [
              "<Figure size 576x432 with 1 Axes>"
            ]
          },
          "metadata": {
            "tags": [],
            "needs_background": "light"
          }
        },
        {
          "output_type": "display_data",
          "data": {
            "image/png": "[encoded data removed]",
            "text/plain": [
              "<Figure size 576x432 with 1 Axes>"
            ]
          },
          "metadata": {
            "tags": [],
            "needs_background": "light"
          }
        },
        {
          "output_type": "display_data",
          "data": {
            "image/png": "[encoded data removed]",
            "text/plain": [
              "<Figure size 576x432 with 1 Axes>"
            ]
          },
          "metadata": {
            "tags": [],
            "needs_background": "light"
          }
        },
        {
          "output_type": "display_data",
          "data": {
            "image/png": "[encoded data removed]",
            "text/plain": [
              "<Figure size 576x432 with 1 Axes>"
            ]
          },
          "metadata": {
            "tags": [],
            "needs_background": "light"
          }
        },
        {
          "output_type": "display_data",
          "data": {
            "image/png": "[encoded data removed]",
            "text/plain": [
              "<Figure size 576x432 with 1 Axes>"
            ]
          },
          "metadata": {
            "tags": [],
            "needs_background": "light"
          }
        },
        {
          "output_type": "display_data",
          "data": {
            "image/png": "[encoded data removed]",
            "text/plain": [
              "<Figure size 576x432 with 1 Axes>"
            ]
          },
          "metadata": {
            "tags": [],
            "needs_background": "light"
          }
        },
        {
          "output_type": "display_data",
          "data": {
            "image/png": "[encoded data removed]",
            "text/plain": [
              "<Figure size 576x432 with 1 Axes>"
            ]
          },
          "metadata": {
            "tags": [],
            "needs_background": "light"
          }
        },
        {
          "output_type": "stream",
          "text": [
            "See the plot above with learning rates [0.1, 0.001, 0.0001, 1e-05, 1e-08, 1e-10, 1e-15]\n"
          ],
          "name": "stdout"
        }
      ]
    },
    {
      "cell_type": "markdown",
      "metadata": {
        "id": "i3odG_i5pWdG"
      },
      "source": [
        "It looks like the best learning rate is 1E-5 based off the charts above, so lets fit the model now based off our optimal learning rate:"
      ]
    },
    {
      "cell_type": "code",
      "metadata": {
        "id": "Fj055QccJK-G",
        "colab": {
          "base_uri": "https://localhost:8080/"
        },
        "outputId": "ecbce9db-cb62-4aaf-e2ea-978f57bdf7a3"
      },
      "source": [
        "stop = EarlyStopping(monitor = \"val_loss\", mode = 'min', verbose = 1, patience = 25)\n",
        "learning_rate = 1E-05\n",
        "my_model.fit(features_train_scaled, \n",
        "              labels_train, \n",
        "              epochs = 100, \n",
        "              batch_size = 10, \n",
        "              verbose = 1, \n",
        "              validation_split= 0.2, \n",
        "              callbacks=[stop])"
      ],
      "execution_count": 39,
      "outputs": [
        {
          "output_type": "stream",
          "text": [
            "Epoch 1/100\n",
            "32/32 [==============================] - 0s 4ms/step - loss: 0.0035 - mae: 0.0419 - val_loss: 0.0041 - val_mae: 0.0502\n",
            "Epoch 2/100\n",
            "32/32 [==============================] - 0s 3ms/step - loss: 0.0034 - mae: 0.0408 - val_loss: 0.0043 - val_mae: 0.0526\n",
            "Epoch 3/100\n",
            "32/32 [==============================] - 0s 4ms/step - loss: 0.0035 - mae: 0.0425 - val_loss: 0.0041 - val_mae: 0.0516\n",
            "Epoch 4/100\n",
            "32/32 [==============================] - 0s 4ms/step - loss: 0.0036 - mae: 0.0427 - val_loss: 0.0040 - val_mae: 0.0488\n",
            "Epoch 5/100\n",
            "32/32 [==============================] - 0s 3ms/step - loss: 0.0035 - mae: 0.0419 - val_loss: 0.0041 - val_mae: 0.0493\n",
            "Epoch 6/100\n",
            "32/32 [==============================] - 0s 4ms/step - loss: 0.0037 - mae: 0.0435 - val_loss: 0.0040 - val_mae: 0.0487\n",
            "Epoch 7/100\n",
            "32/32 [==============================] - 0s 3ms/step - loss: 0.0035 - mae: 0.0423 - val_loss: 0.0040 - val_mae: 0.0499\n",
            "Epoch 8/100\n",
            "32/32 [==============================] - 0s 3ms/step - loss: 0.0036 - mae: 0.0424 - val_loss: 0.0040 - val_mae: 0.0499\n",
            "Epoch 9/100\n",
            "32/32 [==============================] - 0s 3ms/step - loss: 0.0034 - mae: 0.0416 - val_loss: 0.0040 - val_mae: 0.0503\n",
            "Epoch 10/100\n",
            "32/32 [==============================] - 0s 3ms/step - loss: 0.0037 - mae: 0.0438 - val_loss: 0.0041 - val_mae: 0.0501\n",
            "Epoch 11/100\n",
            "32/32 [==============================] - 0s 3ms/step - loss: 0.0035 - mae: 0.0410 - val_loss: 0.0040 - val_mae: 0.0489\n",
            "Epoch 12/100\n",
            "32/32 [==============================] - 0s 3ms/step - loss: 0.0038 - mae: 0.0435 - val_loss: 0.0046 - val_mae: 0.0562\n",
            "Epoch 13/100\n",
            "32/32 [==============================] - 0s 3ms/step - loss: 0.0038 - mae: 0.0460 - val_loss: 0.0041 - val_mae: 0.0504\n",
            "Epoch 14/100\n",
            "32/32 [==============================] - 0s 3ms/step - loss: 0.0036 - mae: 0.0430 - val_loss: 0.0043 - val_mae: 0.0492\n",
            "Epoch 15/100\n",
            "32/32 [==============================] - 0s 3ms/step - loss: 0.0040 - mae: 0.0463 - val_loss: 0.0041 - val_mae: 0.0516\n",
            "Epoch 16/100\n",
            "32/32 [==============================] - 0s 4ms/step - loss: 0.0036 - mae: 0.0424 - val_loss: 0.0040 - val_mae: 0.0493\n",
            "Epoch 17/100\n",
            "32/32 [==============================] - 0s 3ms/step - loss: 0.0035 - mae: 0.0427 - val_loss: 0.0040 - val_mae: 0.0492\n",
            "Epoch 18/100\n",
            "32/32 [==============================] - 0s 3ms/step - loss: 0.0036 - mae: 0.0429 - val_loss: 0.0041 - val_mae: 0.0510\n",
            "Epoch 19/100\n",
            "32/32 [==============================] - 0s 3ms/step - loss: 0.0036 - mae: 0.0437 - val_loss: 0.0042 - val_mae: 0.0511\n",
            "Epoch 20/100\n",
            "32/32 [==============================] - 0s 3ms/step - loss: 0.0035 - mae: 0.0415 - val_loss: 0.0039 - val_mae: 0.0491\n",
            "Epoch 21/100\n",
            "32/32 [==============================] - 0s 3ms/step - loss: 0.0039 - mae: 0.0445 - val_loss: 0.0043 - val_mae: 0.0531\n",
            "Epoch 22/100\n",
            "32/32 [==============================] - 0s 3ms/step - loss: 0.0039 - mae: 0.0455 - val_loss: 0.0040 - val_mae: 0.0504\n",
            "Epoch 23/100\n",
            "32/32 [==============================] - 0s 4ms/step - loss: 0.0037 - mae: 0.0436 - val_loss: 0.0040 - val_mae: 0.0499\n",
            "Epoch 24/100\n",
            "32/32 [==============================] - 0s 4ms/step - loss: 0.0035 - mae: 0.0424 - val_loss: 0.0040 - val_mae: 0.0502\n",
            "Epoch 25/100\n",
            "32/32 [==============================] - 0s 4ms/step - loss: 0.0036 - mae: 0.0429 - val_loss: 0.0040 - val_mae: 0.0493\n",
            "Epoch 26/100\n",
            "32/32 [==============================] - 0s 3ms/step - loss: 0.0035 - mae: 0.0418 - val_loss: 0.0040 - val_mae: 0.0495\n",
            "Epoch 27/100\n",
            "32/32 [==============================] - 0s 3ms/step - loss: 0.0035 - mae: 0.0422 - val_loss: 0.0040 - val_mae: 0.0489\n",
            "Epoch 28/100\n",
            "32/32 [==============================] - 0s 3ms/step - loss: 0.0035 - mae: 0.0415 - val_loss: 0.0042 - val_mae: 0.0525\n",
            "Epoch 29/100\n",
            "32/32 [==============================] - 0s 3ms/step - loss: 0.0035 - mae: 0.0423 - val_loss: 0.0040 - val_mae: 0.0502\n",
            "Epoch 30/100\n",
            "32/32 [==============================] - 0s 4ms/step - loss: 0.0035 - mae: 0.0420 - val_loss: 0.0044 - val_mae: 0.0545\n",
            "Epoch 31/100\n",
            "32/32 [==============================] - 0s 4ms/step - loss: 0.0036 - mae: 0.0427 - val_loss: 0.0042 - val_mae: 0.0520\n",
            "Epoch 32/100\n",
            "32/32 [==============================] - 0s 3ms/step - loss: 0.0035 - mae: 0.0430 - val_loss: 0.0043 - val_mae: 0.0531\n",
            "Epoch 33/100\n",
            "32/32 [==============================] - 0s 3ms/step - loss: 0.0036 - mae: 0.0429 - val_loss: 0.0040 - val_mae: 0.0496\n",
            "Epoch 34/100\n",
            "32/32 [==============================] - 0s 3ms/step - loss: 0.0036 - mae: 0.0431 - val_loss: 0.0039 - val_mae: 0.0489\n",
            "Epoch 35/100\n",
            "32/32 [==============================] - 0s 3ms/step - loss: 0.0036 - mae: 0.0425 - val_loss: 0.0040 - val_mae: 0.0493\n",
            "Epoch 36/100\n",
            "32/32 [==============================] - 0s 3ms/step - loss: 0.0035 - mae: 0.0416 - val_loss: 0.0040 - val_mae: 0.0486\n",
            "Epoch 37/100\n",
            "32/32 [==============================] - 0s 3ms/step - loss: 0.0036 - mae: 0.0427 - val_loss: 0.0041 - val_mae: 0.0518\n",
            "Epoch 38/100\n",
            "32/32 [==============================] - 0s 3ms/step - loss: 0.0036 - mae: 0.0423 - val_loss: 0.0042 - val_mae: 0.0526\n",
            "Epoch 39/100\n",
            "32/32 [==============================] - 0s 3ms/step - loss: 0.0035 - mae: 0.0417 - val_loss: 0.0041 - val_mae: 0.0488\n",
            "Epoch 40/100\n",
            "32/32 [==============================] - 0s 3ms/step - loss: 0.0037 - mae: 0.0429 - val_loss: 0.0046 - val_mae: 0.0566\n",
            "Epoch 41/100\n",
            "32/32 [==============================] - 0s 4ms/step - loss: 0.0037 - mae: 0.0445 - val_loss: 0.0041 - val_mae: 0.0510\n",
            "Epoch 42/100\n",
            "32/32 [==============================] - 0s 3ms/step - loss: 0.0035 - mae: 0.0419 - val_loss: 0.0042 - val_mae: 0.0499\n",
            "Epoch 43/100\n",
            "32/32 [==============================] - 0s 4ms/step - loss: 0.0036 - mae: 0.0423 - val_loss: 0.0040 - val_mae: 0.0493\n",
            "Epoch 44/100\n",
            "32/32 [==============================] - 0s 3ms/step - loss: 0.0036 - mae: 0.0437 - val_loss: 0.0040 - val_mae: 0.0483\n",
            "Epoch 45/100\n",
            "32/32 [==============================] - 0s 3ms/step - loss: 0.0036 - mae: 0.0434 - val_loss: 0.0043 - val_mae: 0.0538\n",
            "Epoch 46/100\n",
            "32/32 [==============================] - 0s 4ms/step - loss: 0.0035 - mae: 0.0419 - val_loss: 0.0039 - val_mae: 0.0498\n",
            "Epoch 47/100\n",
            "32/32 [==============================] - 0s 3ms/step - loss: 0.0034 - mae: 0.0421 - val_loss: 0.0043 - val_mae: 0.0487\n",
            "Epoch 48/100\n",
            "32/32 [==============================] - 0s 3ms/step - loss: 0.0035 - mae: 0.0429 - val_loss: 0.0055 - val_mae: 0.0607\n",
            "Epoch 49/100\n",
            "32/32 [==============================] - 0s 3ms/step - loss: 0.0042 - mae: 0.0479 - val_loss: 0.0042 - val_mae: 0.0521\n",
            "Epoch 50/100\n",
            "32/32 [==============================] - 0s 3ms/step - loss: 0.0036 - mae: 0.0433 - val_loss: 0.0043 - val_mae: 0.0494\n",
            "Epoch 51/100\n",
            "32/32 [==============================] - 0s 4ms/step - loss: 0.0038 - mae: 0.0448 - val_loss: 0.0044 - val_mae: 0.0501\n",
            "Epoch 52/100\n",
            "32/32 [==============================] - 0s 4ms/step - loss: 0.0037 - mae: 0.0432 - val_loss: 0.0040 - val_mae: 0.0488\n",
            "Epoch 53/100\n",
            "32/32 [==============================] - 0s 3ms/step - loss: 0.0037 - mae: 0.0434 - val_loss: 0.0040 - val_mae: 0.0506\n",
            "Epoch 54/100\n",
            "32/32 [==============================] - 0s 4ms/step - loss: 0.0035 - mae: 0.0422 - val_loss: 0.0047 - val_mae: 0.0554\n",
            "Epoch 55/100\n",
            "32/32 [==============================] - 0s 3ms/step - loss: 0.0038 - mae: 0.0441 - val_loss: 0.0042 - val_mae: 0.0489\n",
            "Epoch 56/100\n",
            "32/32 [==============================] - 0s 3ms/step - loss: 0.0036 - mae: 0.0423 - val_loss: 0.0044 - val_mae: 0.0503\n",
            "Epoch 57/100\n",
            "32/32 [==============================] - 0s 3ms/step - loss: 0.0035 - mae: 0.0430 - val_loss: 0.0041 - val_mae: 0.0486\n",
            "Epoch 58/100\n",
            "32/32 [==============================] - 0s 3ms/step - loss: 0.0036 - mae: 0.0431 - val_loss: 0.0044 - val_mae: 0.0494\n",
            "Epoch 59/100\n",
            "32/32 [==============================] - 0s 4ms/step - loss: 0.0036 - mae: 0.0422 - val_loss: 0.0051 - val_mae: 0.0525\n",
            "Epoch 00059: early stopping\n"
          ],
          "name": "stdout"
        },
        {
          "output_type": "execute_result",
          "data": {
            "text/plain": [
              "<tensorflow.python.keras.callbacks.History at 0x7f0431102410>"
            ]
          },
          "metadata": {
            "tags": []
          },
          "execution_count": 39
        }
      ]
    },
    {
      "cell_type": "markdown",
      "metadata": {
        "id": "lB8TtuVGtdk1"
      },
      "source": [
        "Cool, so we've stopped around epoch 59, so we can now use that as our next optimized hyperparameter."
      ]
    },
    {
      "cell_type": "code",
      "metadata": {
        "id": "UsTexsIKJLAg",
        "colab": {
          "base_uri": "https://localhost:8080/",
          "height": 309
        },
        "outputId": "0becc89a-2152-47c3-cfef-a9321b0c2a8b"
      },
      "source": [
        "def fit_model2(feat_train, lab_train, learning_rate, num_epochs, b_size, ax):\n",
        "    model = neural_model(features_train, learning_rate)\n",
        "    #train the model on the training data\n",
        "    history = model.fit(features_train, labels_train, epochs=num_epochs, batch_size = b_size, verbose=0, validation_split = 0.2, callbacks=[stop])\n",
        "    # plot learning curves\n",
        "    ax.plot(history.history['mae'], label='train')\n",
        "    ax.plot(history.history['val_mae'], label='validation')\n",
        "    ax.set_title('batch = ' + str(b_size), fontdict={'fontsize': 8, 'fontweight': 'medium'})\n",
        "    ax.set_xlabel('# epochs')\n",
        "    ax.set_ylabel('mae')\n",
        "    ax.legend()\n",
        "    return history\n",
        "\n",
        "\n",
        "batches = [4, 32, 64] \n",
        "#plotting code\n",
        "fig, (ax1, ax2, ax3) = plt.subplots(3, 1, sharex='col', sharey='row',\n",
        "                        gridspec_kw={'hspace': 0.7, 'wspace': 0.4}) #preparing axes for plotting\n",
        "axes = [ax1, ax2, ax3]\n",
        "for i in range(len(batches)):\n",
        "  fit_model2(features_train, labels_train, learning_rate, num_epochs, batches[i], axes[i])\n",
        "\n",
        "print(\"See the plot on the bottom with batch sizes\", batches)"
      ],
      "execution_count": 53,
      "outputs": [
        {
          "output_type": "stream",
          "text": [
            "See the plot on the bottom with batch sizes [4, 32, 64]\n"
          ],
          "name": "stdout"
        },
        {
          "output_type": "display_data",
          "data": {
            "image/png": "[encoded data removed]",
            "text/plain": [
              "<Figure size 432x288 with 3 Axes>"
            ]
          },
          "metadata": {
            "tags": [],
            "needs_background": "light"
          }
        }
      ]
    },
    {
      "cell_type": "markdown",
      "metadata": {
        "id": "DgVJ1823xhsF"
      },
      "source": [
        "Sweet, so looks like epoch 60 was right for our optimal guess. Lets now use batch 64 (personal preference) and continue finishing fitting our model:"
      ]
    },
    {
      "cell_type": "code",
      "metadata": {
        "id": "S29zIpPYJLCo",
        "colab": {
          "base_uri": "https://localhost:8080/"
        },
        "outputId": "a659cfae-b137-4b50-f522-0b05f450a5ee"
      },
      "source": [
        "stop = EarlyStopping(monitor = \"val_loss\", mode = 'min', verbose = 1, patience = 25)\n",
        "learning_rate = 1E-05\n",
        "history = my_model.fit(features_train_scaled, \n",
        "              labels_train, \n",
        "              epochs = 60, \n",
        "              batch_size = 64, \n",
        "              verbose = 1, \n",
        "              validation_split= 0.2, \n",
        "              callbacks=[stop])"
      ],
      "execution_count": 59,
      "outputs": [
        {
          "output_type": "stream",
          "text": [
            "Epoch 1/60\n",
            "5/5 [==============================] - 0s 28ms/step - loss: 0.0034 - mae: 0.0405 - val_loss: 0.0040 - val_mae: 0.0486\n",
            "Epoch 2/60\n",
            "5/5 [==============================] - 0s 13ms/step - loss: 0.0033 - mae: 0.0402 - val_loss: 0.0040 - val_mae: 0.0490\n",
            "Epoch 3/60\n",
            "5/5 [==============================] - 0s 15ms/step - loss: 0.0033 - mae: 0.0409 - val_loss: 0.0040 - val_mae: 0.0490\n",
            "Epoch 4/60\n",
            "5/5 [==============================] - 0s 13ms/step - loss: 0.0034 - mae: 0.0410 - val_loss: 0.0039 - val_mae: 0.0490\n",
            "Epoch 5/60\n",
            "5/5 [==============================] - 0s 14ms/step - loss: 0.0034 - mae: 0.0405 - val_loss: 0.0040 - val_mae: 0.0485\n",
            "Epoch 6/60\n",
            "5/5 [==============================] - 0s 14ms/step - loss: 0.0034 - mae: 0.0403 - val_loss: 0.0040 - val_mae: 0.0487\n",
            "Epoch 7/60\n",
            "5/5 [==============================] - 0s 13ms/step - loss: 0.0034 - mae: 0.0410 - val_loss: 0.0040 - val_mae: 0.0493\n",
            "Epoch 8/60\n",
            "5/5 [==============================] - 0s 14ms/step - loss: 0.0034 - mae: 0.0411 - val_loss: 0.0039 - val_mae: 0.0490\n",
            "Epoch 9/60\n",
            "5/5 [==============================] - 0s 14ms/step - loss: 0.0033 - mae: 0.0405 - val_loss: 0.0040 - val_mae: 0.0489\n",
            "Epoch 10/60\n",
            "5/5 [==============================] - 0s 14ms/step - loss: 0.0034 - mae: 0.0409 - val_loss: 0.0039 - val_mae: 0.0489\n",
            "Epoch 11/60\n",
            "5/5 [==============================] - 0s 14ms/step - loss: 0.0034 - mae: 0.0406 - val_loss: 0.0040 - val_mae: 0.0486\n",
            "Epoch 12/60\n",
            "5/5 [==============================] - 0s 14ms/step - loss: 0.0033 - mae: 0.0404 - val_loss: 0.0039 - val_mae: 0.0487\n",
            "Epoch 13/60\n",
            "5/5 [==============================] - 0s 14ms/step - loss: 0.0034 - mae: 0.0410 - val_loss: 0.0040 - val_mae: 0.0489\n",
            "Epoch 14/60\n",
            "5/5 [==============================] - 0s 15ms/step - loss: 0.0034 - mae: 0.0408 - val_loss: 0.0039 - val_mae: 0.0490\n",
            "Epoch 15/60\n",
            "5/5 [==============================] - 0s 15ms/step - loss: 0.0034 - mae: 0.0406 - val_loss: 0.0040 - val_mae: 0.0487\n",
            "Epoch 16/60\n",
            "5/5 [==============================] - 0s 15ms/step - loss: 0.0034 - mae: 0.0408 - val_loss: 0.0040 - val_mae: 0.0490\n",
            "Epoch 17/60\n",
            "5/5 [==============================] - 0s 14ms/step - loss: 0.0033 - mae: 0.0407 - val_loss: 0.0039 - val_mae: 0.0490\n",
            "Epoch 18/60\n",
            "5/5 [==============================] - 0s 15ms/step - loss: 0.0034 - mae: 0.0408 - val_loss: 0.0040 - val_mae: 0.0487\n",
            "Epoch 19/60\n",
            "5/5 [==============================] - 0s 14ms/step - loss: 0.0034 - mae: 0.0419 - val_loss: 0.0040 - val_mae: 0.0491\n",
            "Epoch 20/60\n",
            "5/5 [==============================] - 0s 16ms/step - loss: 0.0034 - mae: 0.0409 - val_loss: 0.0040 - val_mae: 0.0487\n",
            "Epoch 21/60\n",
            "5/5 [==============================] - 0s 15ms/step - loss: 0.0034 - mae: 0.0409 - val_loss: 0.0040 - val_mae: 0.0490\n",
            "Epoch 22/60\n",
            "5/5 [==============================] - 0s 15ms/step - loss: 0.0034 - mae: 0.0407 - val_loss: 0.0039 - val_mae: 0.0489\n",
            "Epoch 23/60\n",
            "5/5 [==============================] - 0s 14ms/step - loss: 0.0034 - mae: 0.0410 - val_loss: 0.0039 - val_mae: 0.0492\n",
            "Epoch 24/60\n",
            "5/5 [==============================] - 0s 14ms/step - loss: 0.0034 - mae: 0.0412 - val_loss: 0.0040 - val_mae: 0.0489\n",
            "Epoch 25/60\n",
            "5/5 [==============================] - 0s 15ms/step - loss: 0.0035 - mae: 0.0410 - val_loss: 0.0040 - val_mae: 0.0484\n",
            "Epoch 26/60\n",
            "5/5 [==============================] - 0s 14ms/step - loss: 0.0034 - mae: 0.0406 - val_loss: 0.0040 - val_mae: 0.0496\n",
            "Epoch 27/60\n",
            "5/5 [==============================] - 0s 15ms/step - loss: 0.0034 - mae: 0.0413 - val_loss: 0.0039 - val_mae: 0.0496\n",
            "Epoch 28/60\n",
            "5/5 [==============================] - 0s 14ms/step - loss: 0.0034 - mae: 0.0412 - val_loss: 0.0040 - val_mae: 0.0488\n",
            "Epoch 29/60\n",
            "5/5 [==============================] - 0s 17ms/step - loss: 0.0034 - mae: 0.0408 - val_loss: 0.0040 - val_mae: 0.0490\n",
            "Epoch 30/60\n",
            "5/5 [==============================] - 0s 16ms/step - loss: 0.0034 - mae: 0.0405 - val_loss: 0.0040 - val_mae: 0.0487\n",
            "Epoch 31/60\n",
            "5/5 [==============================] - 0s 15ms/step - loss: 0.0034 - mae: 0.0407 - val_loss: 0.0040 - val_mae: 0.0491\n",
            "Epoch 32/60\n",
            "5/5 [==============================] - 0s 14ms/step - loss: 0.0034 - mae: 0.0409 - val_loss: 0.0039 - val_mae: 0.0488\n",
            "Epoch 33/60\n",
            "5/5 [==============================] - 0s 14ms/step - loss: 0.0034 - mae: 0.0404 - val_loss: 0.0040 - val_mae: 0.0486\n",
            "Epoch 34/60\n",
            "5/5 [==============================] - 0s 13ms/step - loss: 0.0034 - mae: 0.0403 - val_loss: 0.0040 - val_mae: 0.0489\n",
            "Epoch 35/60\n",
            "5/5 [==============================] - 0s 13ms/step - loss: 0.0033 - mae: 0.0407 - val_loss: 0.0040 - val_mae: 0.0492\n",
            "Epoch 36/60\n",
            "5/5 [==============================] - 0s 15ms/step - loss: 0.0034 - mae: 0.0408 - val_loss: 0.0040 - val_mae: 0.0488\n",
            "Epoch 37/60\n",
            "5/5 [==============================] - 0s 14ms/step - loss: 0.0033 - mae: 0.0404 - val_loss: 0.0040 - val_mae: 0.0487\n",
            "Epoch 38/60\n",
            "5/5 [==============================] - 0s 13ms/step - loss: 0.0034 - mae: 0.0405 - val_loss: 0.0040 - val_mae: 0.0487\n",
            "Epoch 39/60\n",
            "5/5 [==============================] - 0s 15ms/step - loss: 0.0034 - mae: 0.0407 - val_loss: 0.0040 - val_mae: 0.0493\n",
            "Epoch 00039: early stopping\n"
          ],
          "name": "stdout"
        }
      ]
    },
    {
      "cell_type": "markdown",
      "metadata": {
        "id": "sno02YstyQEp"
      },
      "source": [
        "Awesome, now lets take a look at our MSE (mean squared error) and MAE (mean absolute error)"
      ]
    },
    {
      "cell_type": "code",
      "metadata": {
        "id": "iXskUoCDJLE5",
        "colab": {
          "base_uri": "https://localhost:8080/"
        },
        "outputId": "3582d2f2-bd60-4dcd-d8a3-b79adeff3790"
      },
      "source": [
        "val_mse, val_mae = my_model.evaluate(\n",
        "  features_test, \n",
        "  labels_test, \n",
        "  verbose = 0\n",
        ")\n",
        "\n",
        "print(\"MAE: \", val_mae)\n",
        "print(\"MSE: \", val_mse)"
      ],
      "execution_count": 58,
      "outputs": [
        {
          "output_type": "stream",
          "text": [
            "MAE:  7.310849666595459\n",
            "MSE:  53.5026969909668\n"
          ],
          "name": "stdout"
        }
      ]
    },
    {
      "cell_type": "markdown",
      "metadata": {
        "id": "jv89n4WWzLOP"
      },
      "source": [
        "Lastly, lets see if we can plot the model loss per epoch, and the mean average loss per epoch for the training and the validation data. \n",
        "\n",
        "This will help us vizualize the summary statistics regarding our validation and training sets."
      ]
    },
    {
      "cell_type": "code",
      "metadata": {
        "colab": {
          "base_uri": "https://localhost:8080/",
          "height": 586
        },
        "id": "BUV55wrvtwPw",
        "outputId": "244582f0-425c-450c-811b-4b9c24d2b69e"
      },
      "source": [
        "fig = plt.figure(figsize = (15,10))\n",
        "ax1 = fig.add_subplot(2, 1, 1)\n",
        "ax1.plot(history.history['mae'])\n",
        "ax1.plot(history.history['val_mae'])\n",
        "ax1.set_title('model mae')\n",
        "ax1.set_ylabel('MAE')\n",
        "ax1.set_xlabel('epoch')\n",
        "ax1.legend(['train', 'validation'], loc='upper left')\n",
        " \n",
        "  # Plot loss and val_loss over each epoch\n",
        "ax2 = fig.add_subplot(2, 1, 2)\n",
        "ax2.plot(history.history['loss'])\n",
        "ax2.plot(history.history['val_loss'])\n",
        "ax2.set_title('model loss')\n",
        "ax2.set_ylabel('loss')\n",
        "ax2.set_xlabel('epoch')\n",
        "ax2.legend(['train', 'validation'], loc='upper left')\n",
        " \n",
        "# used to keep plots from overlapping each other  \n",
        "fig.tight_layout()"
      ],
      "execution_count": 60,
      "outputs": [
        {
          "output_type": "display_data",
          "data": {
            "image/png": "[encoded data removed]",
            "text/plain": [
              "<Figure size 1080x720 with 2 Axes>"
            ]
          },
          "metadata": {
            "tags": [],
            "needs_background": "light"
          }
        }
      ]
    },
    {
      "cell_type": "code",
      "metadata": {
        "id": "jeU_mdy9tvnL"
      },
      "source": [
        ""
      ],
      "execution_count": null,
      "outputs": []
    },
    {
      "cell_type": "code",
      "metadata": {
        "id": "zIaxEqXFtvIz"
      },
      "source": [
        ""
      ],
      "execution_count": null,
      "outputs": []
    },
    {
      "cell_type": "code",
      "metadata": {
        "id": "aa3mBcPltusH"
      },
      "source": [
        ""
      ],
      "execution_count": null,
      "outputs": []
    },
    {
      "cell_type": "code",
      "metadata": {
        "id": "Ah7YEo7XtuPX"
      },
      "source": [
        ""
      ],
      "execution_count": null,
      "outputs": []
    },
    {
      "cell_type": "code",
      "metadata": {
        "id": "s2XMnLuxttZx"
      },
      "source": [
        ""
      ],
      "execution_count": null,
      "outputs": []
    },
    {
      "cell_type": "code",
      "metadata": {
        "id": "OOgqPSvfttAA"
      },
      "source": [
        ""
      ],
      "execution_count": null,
      "outputs": []
    },
    {
      "cell_type": "code",
      "metadata": {
        "id": "s1TjnKFEtshK"
      },
      "source": [
        ""
      ],
      "execution_count": null,
      "outputs": []
    },
    {
      "cell_type": "code",
      "metadata": {
        "id": "RQHIpliPtsGg"
      },
      "source": [
        ""
      ],
      "execution_count": null,
      "outputs": []
    },
    {
      "cell_type": "code",
      "metadata": {
        "id": "S-fh7fQTtr4M"
      },
      "source": [
        ""
      ],
      "execution_count": null,
      "outputs": []
    }
  ]
}